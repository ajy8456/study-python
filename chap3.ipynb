{
 "cells": [
  {
   "cell_type": "markdown",
   "metadata": {},
   "source": [
    "# Chapter3. Dictionaries and Sets\n",
    "> 어떤 코드든지 우리가 explict 하게 dictionary를 사용하지 않더라도, 내부적으로 dictionary를 사용한다"
   ]
  },
  {
   "cell_type": "markdown",
   "metadata": {},
   "source": [
    "```python\n",
    "dict 는 실제로 우리가 코드를 짤 때 뿐만 아니라, fundamental 한 부분에서도 많이 활용되고 있다. \n",
    "module namespaces, class, instance attributes, function keyword arguments 같은 것들이 dictionary가 쓰이는 fundamental constructs 에 해당한다. \n",
    "\n",
    "```\n",
    "* namespaces: 프로그램 내의 이름들이 unique하도록 -> 충돌없이 잘 실행될 수 있도록 한다. \\\n",
    "Local, Global, Built-in, Enclosing Namespaces가 있으며, enclosing은 특정 모듈안에 다른 function이 있는 경우를 지칭한다. \\\n",
    "예를 들어, 모듈 math 와 cmath 모두에 log10(), acos() 와 같은 function들이 있고, 이런 function들을 unambiguous 하게 사용하기 위해서는 math.log10() cmath.log10() 이런 식으로 정확히 나타내어 줘야한다. \n",
    "\n",
    "python의 경우, `dict` 가 중요한 역할을 하기 때문에, 잘 optimized 되어 있고, 이를 위해 _hash table_ 이 중요한 역할을 하고 있다. \n",
    "\n",
    "\n"
   ]
  },
  {
   "cell_type": "code",
   "execution_count": 4,
   "metadata": {},
   "outputs": [
    {
     "name": "stdout",
     "output_type": "stream",
     "text": [
      "['ArithmeticError', 'AssertionError', 'AttributeError', 'BaseException', 'BlockingIOError', 'BrokenPipeError', 'BufferError', 'BytesWarning', 'ChildProcessError', 'ConnectionAbortedError', 'ConnectionError', 'ConnectionRefusedError', 'ConnectionResetError', 'DeprecationWarning', 'EOFError', 'Ellipsis', 'EnvironmentError', 'Exception', 'False', 'FileExistsError', 'FileNotFoundError', 'FloatingPointError', 'FutureWarning', 'GeneratorExit', 'IOError', 'ImportError', 'ImportWarning', 'IndentationError', 'IndexError', 'InterruptedError', 'IsADirectoryError', 'KeyError', 'KeyboardInterrupt', 'LookupError', 'MemoryError', 'ModuleNotFoundError', 'NameError', 'None', 'NotADirectoryError', 'NotImplemented', 'NotImplementedError', 'OSError', 'OverflowError', 'PendingDeprecationWarning', 'PermissionError', 'ProcessLookupError', 'RecursionError', 'ReferenceError', 'ResourceWarning', 'RuntimeError', 'RuntimeWarning', 'StopAsyncIteration', 'StopIteration', 'SyntaxError', 'SyntaxWarning', 'SystemError', 'SystemExit', 'TabError', 'TimeoutError', 'True', 'TypeError', 'UnboundLocalError', 'UnicodeDecodeError', 'UnicodeEncodeError', 'UnicodeError', 'UnicodeTranslateError', 'UnicodeWarning', 'UserWarning', 'ValueError', 'Warning', 'ZeroDivisionError', '__IPYTHON__', '__build_class__', '__debug__', '__doc__', '__import__', '__loader__', '__name__', '__package__', '__spec__', 'abs', 'all', 'any', 'ascii', 'bin', 'bool', 'breakpoint', 'bytearray', 'bytes', 'callable', 'chr', 'classmethod', 'compile', 'complex', 'copyright', 'credits', 'delattr', 'dict', 'dir', 'display', 'divmod', 'enumerate', 'eval', 'exec', 'execfile', 'filter', 'float', 'format', 'frozenset', 'get_ipython', 'getattr', 'globals', 'hasattr', 'hash', 'help', 'hex', 'id', 'input', 'int', 'isinstance', 'issubclass', 'iter', 'len', 'license', 'list', 'locals', 'map', 'max', 'memoryview', 'min', 'next', 'object', 'oct', 'open', 'ord', 'pow', 'print', 'property', 'range', 'repr', 'reversed', 'round', 'runfile', 'set', 'setattr', 'slice', 'sorted', 'staticmethod', 'str', 'sum', 'super', 'tuple', 'type', 'vars', 'zip']\n",
      "155\n"
     ]
    }
   ],
   "source": [
    "# built-in Namespaces (built-in function들을 확인할 수 있음)\n",
    "print(dir(__builtins__))\n",
    "print(len(dir(__builtins__)))"
   ]
  },
  {
   "cell_type": "markdown",
   "metadata": {},
   "source": [
    "## 3.1 Generic Mapping Types\n",
    "`collections.abc` 모듈은 Mapping 이랑 MutableMapping ABCs를 제공 <- dict 이나 비슷한 data types의 interface를 formalize 하는 역할\\\n",
    "이 ABCs 는 mapping을 위한 기본적인 최소한의 interface를 documenting하고, formalizing 한다는 데에 주된 의미가 있다. \n",
    "\n",
    "모든 standard library에 있는 모든 mapping types 들은 기본적인 dict이라 key가 반드시 _hashable_해야한다는 공통적인 제한점이 있다. (value는 상관 없음)"
   ]
  },
  {
   "cell_type": "code",
   "execution_count": null,
   "metadata": {},
   "outputs": [
    {
     "data": {
      "text/plain": [
       "True"
      ]
     },
     "metadata": {},
     "output_type": "display_data"
    }
   ],
   "source": [
    "# import collections\n",
    "import collections.abc\n",
    "my_dict = {}\n",
    "# isinstance(my_dict, collections.Mapping)\n",
    "isinstance(my_dict, collections.abc.Mapping) #using isinstance for chekcing whether a function argument is of dict type"
   ]
  },
  {
   "cell_type": "markdown",
   "metadata": {},
   "source": [
    "#### what is hashable?\n",
    "python glossary에서 찾을 수 있는 definition은 다음과 같다\n",
    "> An object is hashable if it has a hash value which never changes during its lifetime (it needs a `__hash__()` method), and cna be compared to other objects (it needs an `__eq__()` method). Hashable objects which compared equal must have the same hash value \n",
    "\n",
    "예를 들면, atomic immutable types(`str`, `bytes`, numerical types) 는 모두 hashable 하다 (immutable)\n",
    "이는 변수 자체의 변경이 불가능 하다는 것을 의미하는 것이 아니다. 실제, 프로그램 내에서 \"=\"(assignment) 를 통해서 모든 변수는 변경될 수 있다.\\\n",
    "mutable의 의미는 그 객체를 가리키는 (reference) identity(id)의 변경 없이 객체 값을 변경할 수 있다는 것을, immutable 하다는 것은 그 객체를 가리키는 (reference) identity(id) 의 변경 없이 객체값을 변경할 수 없음을 의미한다. \n",
    "\n",
    "이것이 가능한 것은 컬렉션 데이터 타입의 경우, 객체 자체의 주소는 동일하게 가져가지만, 그 element의 일부 값을 변경할 수 있기 때문이다.\n",
    "\n",
    "\n"
   ]
  },
  {
   "cell_type": "code",
   "execution_count": 7,
   "metadata": {},
   "outputs": [
    {
     "name": "stdout",
     "output_type": "stream",
     "text": [
      "94902926730240\n",
      "94902926730240\n",
      "139681250437472\n",
      "94902926730272\n",
      "139680626140416\n",
      "[1, 2, 3]\n",
      "139680626140416\n",
      "[4, 2, 3]\n",
      "139680626140416\n"
     ]
    }
   ],
   "source": [
    "# id function을 통해 hashable/unhashble 여부 판단하기 (hash function을 대신 사용할 수 있음)\n",
    "# immutable x, y\n",
    "from re import X\n",
    "\n",
    "\n",
    "x = 3\n",
    "print(id(x))\n",
    "\n",
    "y = X\n",
    "print(id(x))\n",
    "print(id(y)) # x와 id가 달라짐\n",
    "\n",
    "y = 4\n",
    "print(id(y)) #y에 다른 값을 할당하면, 그 전의 id와 값이 달라짐 ()\n",
    "\n",
    "# mutable list: 모두 id가 동일함을 알 수 있음\n",
    "my_list = [1,2,3]\n",
    "print(id(my_list))\n",
    "\n",
    "my_list2 = my_list\n",
    "print(my_list2)\n",
    "print(id(my_list2))\n",
    "\n",
    "my_list2[0] = 4\n",
    "print(my_list2)\n",
    "print(id(my_list2)) # 값을 바꾸더라도 id가 동일\n"
   ]
  },
  {
   "cell_type": "markdown",
   "metadata": {},
   "source": [
    "### dict Comprehensions\n",
    "하나의 dictionary를 다른 dictionary로 transforming하는 방법으로, 이를 잘 사용하면 코드가 좀 더 읽기 쉬워진다"
   ]
  },
  {
   "cell_type": "code",
   "execution_count": 12,
   "metadata": {},
   "outputs": [
    {
     "name": "stdout",
     "output_type": "stream",
     "text": [
      "{'China': 86, 'India': 91, 'United States': 1, 'Indonesia': 62, 'Brazil': 55, 'Pakistan': 92, 'Bangladesh': 880}\n",
      "{1: 'UNITED STATES', 62: 'INDONESIA', 55: 'BRAZIL'}\n"
     ]
    }
   ],
   "source": [
    "# Example 3-1. 하나의 list of tuples 로 부터 두개의 서로 다른 dictionary 만들기\n",
    "\n",
    "DIAL_CODES = [\n",
    "    (86, 'China'),\n",
    "    (91, 'India'),\n",
    "    (1, 'United States'),\n",
    "    (62, 'Indonesia'),\n",
    "    (55, 'Brazil'),\n",
    "    (92, 'Pakistan'),\n",
    "    (880, 'Bangladesh'),\n",
    "\n",
    "]\n",
    "\n",
    "country_code = {country: code for code, country in DIAL_CODES}\n",
    "print(country_code)\n",
    "country_code2 = {code: country.upper() for country, code in country_code.items() if code < 66}\n",
    "print(country_code2)\n"
   ]
  },
  {
   "cell_type": "markdown",
   "metadata": {},
   "source": [
    "### Handling Missing keys with setdefault\n",
    "일반적인 dictionary 에서 만약 key가 존재하지 않는다면 key error를 발생시키거나, `dict.get(key, default)` 이렇게 해서 alternative를 제공한다."
   ]
  },
  {
   "cell_type": "code",
   "execution_count": 17,
   "metadata": {},
   "outputs": [
    {
     "name": "stdout",
     "output_type": "stream",
     "text": [
      "50\n",
      "\"Grapes\" is not in key list, so it raise keyError\n",
      "50\n",
      "50\n",
      "0\n",
      "50\n",
      "0\n",
      "50\n",
      "0\n"
     ]
    }
   ],
   "source": [
    "# using normal dict\n",
    "d={}\n",
    "d['Apple']=50\n",
    "d['Orange']=20\n",
    "print(d['Apple'])\n",
    "try:\n",
    "    print(d['Grapes'])# This gives Key Error\n",
    "except:\n",
    "    print('\"Grapes\" is not in key list, so it raise keyError')\n",
    "# avoiding KeyError by using defaulting\n",
    "d={}\n",
    "d['Apple']=50\n",
    "d['Orange']=20\n",
    "print(d['Apple'])\n",
    "print(d.get('Apple'))\n",
    "print(d.get('Grapes',0)) # DEFAULTING\n",
    "\n",
    "# Using Default dict\n",
    "from collections import defaultdict\n",
    "d = defaultdict(int) ## inside parenthesis we say what should be the default value.\n",
    "d['Apple']=50\n",
    "d['Orange']=20\n",
    "print(d['Apple'])\n",
    "print(d['Grapes']) ##→ This gives Will not give error\n",
    "\n",
    "# using an user defined function to defualt the value\n",
    "from collections import defaultdict\n",
    "def mydefault():\n",
    "        return 0\n",
    "\n",
    "d = defaultdict(mydefault)\n",
    "d['Apple']=50\n",
    "d['Orange']=20\n",
    "print(d['Apple'])\n",
    "print(d['Grapes'])\n"
   ]
  },
  {
   "cell_type": "code",
   "execution_count": 19,
   "metadata": {},
   "outputs": [
    {
     "name": "stdout",
     "output_type": "stream",
     "text": [
      "two\n",
      "four\n",
      "two\n",
      "four\n",
      "N/A\n"
     ]
    },
    {
     "data": {
      "text/plain": [
       "False"
      ]
     },
     "execution_count": 19,
     "metadata": {},
     "output_type": "execute_result"
    }
   ],
   "source": [
    "class StrkeyDict0(dict):\n",
    "    def __missing__(self, key):\n",
    "        if isinstance(key, str):\n",
    "            raise KeyError(key)\n",
    "        return self[str(key)]\n",
    "    \n",
    "    def get(self, key, default=None):\n",
    "        try:\n",
    "            return self[key]\n",
    "        except KeyError:\n",
    "            return default\n",
    "    \n",
    "    def __contains__(self, key):\n",
    "        return key in self.keys() or str(key) in self.keys()\n",
    "\n",
    "\n",
    "d = StrkeyDict0([('2', 'two'), ('4', 'four')])\n",
    "print(d['2'])\n",
    "print(d[4])\n",
    "# print(d[1]) #raise KeyError\n",
    "\n",
    "print(d.get('2'))\n",
    "print(d.get(4))\n",
    "print(d.get(1, 'N/A'))\n",
    "\n",
    "2 in d\n",
    "1 in d"
   ]
  },
  {
   "cell_type": "markdown",
   "metadata": {},
   "source": [
    "### Subclassing UserDict\n",
    "일반적으로 mapping type 을 새로 만들어주고 싶을 때, `dict` 를 쓰는 것 보다, `UserDict`를 쓰는게 더 쉽다!\\\n",
    "가장 큰 이유는 `UserDict` 을 사용하면  문제없이 inherit 할 수 있는 method들을 그냥 `dict` 를 쓰면 무시하게 된다.\n",
    "\n",
    "chap12 p.384에 있는 예시를 보면, `__init__`, `update` method가 `__setitem__` method를 그냥 무시해버린다"
   ]
  },
  {
   "cell_type": "code",
   "execution_count": 23,
   "metadata": {},
   "outputs": [
    {
     "name": "stdout",
     "output_type": "stream",
     "text": [
      "{'one': 1}\n",
      "{'one': 1, 'two': [2, 2]}\n",
      "{'one': 1, 'two': [2, 2], 'three': 3}\n"
     ]
    }
   ],
   "source": [
    "class DoopelDict(dict):\n",
    "    def __setitem__(self, key, value):\n",
    "        super().__setitem__(key, [value]*2)\n",
    "\n",
    "dd = DoopelDict(one=1)\n",
    "print(dd)\n",
    "\n",
    "dd['two'] = 2\n",
    "print(dd)\n",
    "\n",
    "dd.update(three=3)\n",
    "print(dd)"
   ]
  },
  {
   "cell_type": "code",
   "execution_count": 25,
   "metadata": {},
   "outputs": [
    {
     "name": "stdout",
     "output_type": "stream",
     "text": [
      "two\n",
      "four\n",
      "two\n",
      "four\n",
      "N/A\n"
     ]
    },
    {
     "data": {
      "text/plain": [
       "False"
      ]
     },
     "execution_count": 25,
     "metadata": {},
     "output_type": "execute_result"
    }
   ],
   "source": [
    "class StrKeyDict(collections.UserDict):\n",
    "    def __missing__(self, key):\n",
    "        if isinstance(key, str):\n",
    "            raise KeyError(key)\n",
    "        return self[str(key)]\n",
    "    \n",
    "    def __contains__(self, key): # 위의 StrKeyDict0 에서 했던 것과 동일한 역할을 하지만, 훨 simple\n",
    "        return  str(key) in self.data\n",
    "    \n",
    "    def __setitem__(self, key, item):\n",
    "        self.data[str(key)] = item\n",
    "\n",
    "\n",
    "d = StrKeyDict([('2', 'two'), ('4', 'four')])\n",
    "print(d['2'])\n",
    "print(d[4])\n",
    "# print(d[1]) #raise KeyError\n",
    "\n",
    "print(d.get('2'))\n",
    "print(d.get(4))\n",
    "print(d.get(1, 'N/A'))\n",
    "\n",
    "2 in d\n",
    "1 in d"
   ]
  },
  {
   "cell_type": "markdown",
   "metadata": {},
   "source": [
    "### Immutable Mappings\n",
    "standard library에서 제공하는 모든 mapping type들은 mutable 하지만, 우리는 가끔 user가 mapping을 실수로라도 변경하지 못하도록 하고싶은 경우가 있다.\\\n",
    "그럴때는 `wrapper` class에서 `MappingProxy`로 감싸주면 read-only instance인 `mappingproxy` 를 return 한다.\n",
    "\n",
    "수정을 하고 싶을 때에는 원래의 mutable data를 수정하면 이가 반영된 mappingproxy가 나옴을 알 수 있다."
   ]
  },
  {
   "cell_type": "code",
   "execution_count": 29,
   "metadata": {},
   "outputs": [
    {
     "name": "stdout",
     "output_type": "stream",
     "text": [
      "{1: 'A'}\n",
      "A\n"
     ]
    },
    {
     "data": {
      "text/plain": [
       "mappingproxy({1: 'A', 2: 'x'})"
      ]
     },
     "execution_count": 29,
     "metadata": {},
     "output_type": "execute_result"
    }
   ],
   "source": [
    "from types import MappingProxyType\n",
    "d = {1: 'A'}\n",
    "d_proxy = MappingProxyType(d)\n",
    "print(d_proxy)\n",
    "\n",
    "print(d_proxy[1])\n",
    "\n",
    "# 이건 error 발생\n",
    "# d_proxy[2] = 'x'\n",
    "\n",
    "d[2] = 'x'\n",
    "d_proxy\n"
   ]
  },
  {
   "cell_type": "markdown",
   "metadata": {},
   "source": [
    "## Set Theory\n",
    "set type은 상대적으로 python에서 새롭게 생긴 data type으로, \\\n",
    "collection of unique object로, basic use case로는 removing duplication이 있다. \n",
    "\n",
    "set elements 는 반드시 hashable해야 하지만, set type은 hashable 하지 않다./\n",
    " 그렇기 때문에, frozenset` 을 set 내의 element로서 가질 수 있다. \n",
    "\n",
    "말그대로 set 이기 때문에, 우리가 일반적으로 생각하고 있는 '집합' 의 연산이 가능하다 (만약 집합연산으로 하는게 유리한 상황이라면 set을 쓰는 것도 좋은 생각일 것 같다!)"
   ]
  },
  {
   "cell_type": "code",
   "execution_count": 32,
   "metadata": {},
   "outputs": [
    {
     "name": "stdout",
     "output_type": "stream",
     "text": [
      "{'spam', 'eggs'}\n"
     ]
    },
    {
     "data": {
      "text/plain": [
       "['spam', 'eggs']"
      ]
     },
     "execution_count": 32,
     "metadata": {},
     "output_type": "execute_result"
    }
   ],
   "source": [
    "l = ['spam', 'spam', 'eggs', 'spam']\n",
    "s = set(l)\n",
    "print(s)\n",
    "list(s)"
   ]
  },
  {
   "cell_type": "markdown",
   "metadata": {},
   "source": [
    "### set Literals"
   ]
  },
  {
   "cell_type": "code",
   "execution_count": null,
   "metadata": {},
   "outputs": [],
   "source": [
    "wiri"
   ]
  }
 ],
 "metadata": {
  "kernelspec": {
   "display_name": "Python 3.7.13 ('assn1')",
   "language": "python",
   "name": "python3"
  },
  "language_info": {
   "codemirror_mode": {
    "name": "ipython",
    "version": 3
   },
   "file_extension": ".py",
   "mimetype": "text/x-python",
   "name": "python",
   "nbconvert_exporter": "python",
   "pygments_lexer": "ipython3",
   "version": "3.7.13"
  },
  "orig_nbformat": 4,
  "vscode": {
   "interpreter": {
    "hash": "340206e1b5ce6336da4d9f0c50272a860b8b3e020a1dfc8f5ba72793985cf379"
   }
  }
 },
 "nbformat": 4,
 "nbformat_minor": 2
}
