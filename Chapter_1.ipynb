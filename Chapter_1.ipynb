{
 "cells": [
  {
   "cell_type": "markdown",
   "metadata": {},
   "source": [
    "Chapter 1. 파이썬 데이터 모델\n",
    "\n",
    "why len(collection), not collection.len()?\n",
    "\n",
    "파이썬의 장점 중 하나는 일관성\n",
    "\n",
    "실용성 > 이론적 완벽성\n",
    "\n",
    "파이썬 데이터 모델이 제공하는 API를 이용해 우리의 고유의 객체를 정의하면 대부분의 파이썬 상용구를 적용할 수 있다.\n",
    "\n",
    "프레임워크를 이용해 코딩을 할 때는 프레임워크에 의해 호출되는 매서드를 구현하는데 많은 시간을 소비(ex. Pytorch의 DataLoader 구현) - 파이썬 데이터 모델도 마찬가지\n",
    "\n",
    "파이썬 인터프리터는 특별 매서드를 호출해서 기본적인 객체 연산을 수행\n",
    "\n",
    "특별 매서드(__[...]__())는 우리가 구현한 객체가 다음과 같은 기본적인 언어 구조체를 구현하고 지원하고 함께 사용할 수 있게 함:\n",
    "반복 / 컬렉션 / 속성 접근 / 연산자 오버로딩 / 함수 및 매서드 호출 / 객체 생성 및 제거 / 문자열 표현 및 포맷 / 블록 등 콘텍스트 관리"
   ]
  },
  {
   "cell_type": "markdown",
   "metadata": {},
   "source": [
    "1.1 파이썬 카드 한 벌"
   ]
  },
  {
   "cell_type": "code",
   "execution_count": 59,
   "metadata": {},
   "outputs": [],
   "source": [
    "# 특별 매서트 __getitem__()과 __len()__을 이용해 여러 기능을 구현한 예시\n",
    "\n",
    "import collections\n",
    "\n",
    "# collections.namedtuple()로 개별 카드를 나타내는 클래스를 구현 - namedtuple은 매서드를 가지지 않는 일련의 속성으로 구성된 클래스를 만들 수 있음\n",
    "Card = collections.namedtuple('Card', ['rank', 'suit'])\n",
    "\n",
    "class FrenchDeck:\n",
    "    ranks = [str(n) for n in range(2, 11)] + list('JQKA')\n",
    "    suits = 'spades diamonds clubs hearts'.split()\n",
    "    \n",
    "    def __init__(self):\n",
    "        self._cards = [Card(rank, suit) for suit in self.suits      # outer loop\n",
    "                                        for rank in self.ranks]     # inner loop\n",
    "    \n",
    "    def __len__(self):\n",
    "        return len(self._cards)\n",
    "    \n",
    "    def __getitem__(self, position):\n",
    "        return self._cards[position]"
   ]
  },
  {
   "cell_type": "code",
   "execution_count": 60,
   "metadata": {},
   "outputs": [
    {
     "data": {
      "text/plain": [
       "Card(rank='7', suit='diamonds')"
      ]
     },
     "execution_count": 60,
     "metadata": {},
     "output_type": "execute_result"
    }
   ],
   "source": [
    "beer_card = Card('7', 'diamonds')\n",
    "beer_card"
   ]
  },
  {
   "cell_type": "code",
   "execution_count": 61,
   "metadata": {},
   "outputs": [
    {
     "data": {
      "text/plain": [
       "52"
      ]
     },
     "execution_count": 61,
     "metadata": {},
     "output_type": "execute_result"
    }
   ],
   "source": [
    "deck = FrenchDeck()\n",
    "# 일반적인 파이썬 컬렉션과 마찬가지로 len() 함수를 통해 카드의 수를 반환\n",
    "len(deck)"
   ]
  },
  {
   "cell_type": "code",
   "execution_count": 62,
   "metadata": {},
   "outputs": [
    {
     "data": {
      "text/plain": [
       "Card(rank='2', suit='spades')"
      ]
     },
     "execution_count": 62,
     "metadata": {},
     "output_type": "execute_result"
    }
   ],
   "source": [
    "# 카드 덱에서 특정 카드를 읽어 올 수 있음\n",
    "deck[0]"
   ]
  },
  {
   "cell_type": "code",
   "execution_count": 63,
   "metadata": {},
   "outputs": [
    {
     "data": {
      "text/plain": [
       "Card(rank='A', suit='hearts')"
      ]
     },
     "execution_count": 63,
     "metadata": {},
     "output_type": "execute_result"
    }
   ],
   "source": [
    "deck[-1]"
   ]
  },
  {
   "cell_type": "code",
   "execution_count": 64,
   "metadata": {},
   "outputs": [
    {
     "data": {
      "text/plain": [
       "Card(rank='10', suit='clubs')"
      ]
     },
     "execution_count": 64,
     "metadata": {},
     "output_type": "execute_result"
    }
   ],
   "source": [
    "import random\n",
    "\n",
    "# 파이썬은 시퀀스에서 항목을 무작위로 골라내는 random.choice() 매서드를 제공 - 특별 매서드를 정의해 이를 이용할 수 있음\n",
    "random.choice(deck)"
   ]
  },
  {
   "cell_type": "markdown",
   "metadata": {},
   "source": [
    "특별 매서드를 통해 파이썬 데이터 모델을 사용할 때의 두 가지 장점\n",
    "- 사용자가 표준 연산을 수행하기 위해 클래스 자체에서 구현한 임의의 매서드명을 암기할 필요가 없다. (ex. 항목 수를 size()로 구현 했는지 length()로 구현 했는지 등)\n",
    "- 파이썬 표준 라이브러리에서 제공하는 풍부한 기능을 별도로 구현할 필요 없이 바로 사용할 수 있다. (ex. random.choice())"
   ]
  },
  {
   "cell_type": "code",
   "execution_count": 65,
   "metadata": {},
   "outputs": [
    {
     "data": {
      "text/plain": [
       "[Card(rank='2', suit='spades'),\n",
       " Card(rank='3', suit='spades'),\n",
       " Card(rank='4', suit='spades')]"
      ]
     },
     "execution_count": 65,
     "metadata": {},
     "output_type": "execute_result"
    }
   ],
   "source": [
    "# __getitem__() 매서드는 self._cards의 [] 연산자에 작업을 위임하므로 deck 객체는 slicing도 자동으로 지원\n",
    "deck[:3]"
   ]
  },
  {
   "cell_type": "code",
   "execution_count": 66,
   "metadata": {},
   "outputs": [
    {
     "data": {
      "text/plain": [
       "[Card(rank='A', suit='spades'),\n",
       " Card(rank='A', suit='diamonds'),\n",
       " Card(rank='A', suit='clubs'),\n",
       " Card(rank='A', suit='hearts')]"
      ]
     },
     "execution_count": 66,
     "metadata": {},
     "output_type": "execute_result"
    }
   ],
   "source": [
    "# Ace 만 가져오기\n",
    "deck[12::13]"
   ]
  },
  {
   "cell_type": "code",
   "execution_count": 67,
   "metadata": {},
   "outputs": [
    {
     "name": "stdout",
     "output_type": "stream",
     "text": [
      "Card(rank='2', suit='spades')\n",
      "Card(rank='3', suit='spades')\n",
      "Card(rank='4', suit='spades')\n",
      "Card(rank='5', suit='spades')\n",
      "Card(rank='6', suit='spades')\n",
      "Card(rank='7', suit='spades')\n",
      "Card(rank='8', suit='spades')\n",
      "Card(rank='9', suit='spades')\n",
      "Card(rank='10', suit='spades')\n",
      "Card(rank='J', suit='spades')\n",
      "Card(rank='Q', suit='spades')\n",
      "Card(rank='K', suit='spades')\n",
      "Card(rank='A', suit='spades')\n",
      "Card(rank='2', suit='diamonds')\n",
      "Card(rank='3', suit='diamonds')\n",
      "Card(rank='4', suit='diamonds')\n",
      "Card(rank='5', suit='diamonds')\n",
      "Card(rank='6', suit='diamonds')\n",
      "Card(rank='7', suit='diamonds')\n",
      "Card(rank='8', suit='diamonds')\n",
      "Card(rank='9', suit='diamonds')\n",
      "Card(rank='10', suit='diamonds')\n",
      "Card(rank='J', suit='diamonds')\n",
      "Card(rank='Q', suit='diamonds')\n",
      "Card(rank='K', suit='diamonds')\n",
      "Card(rank='A', suit='diamonds')\n",
      "Card(rank='2', suit='clubs')\n",
      "Card(rank='3', suit='clubs')\n",
      "Card(rank='4', suit='clubs')\n",
      "Card(rank='5', suit='clubs')\n",
      "Card(rank='6', suit='clubs')\n",
      "Card(rank='7', suit='clubs')\n",
      "Card(rank='8', suit='clubs')\n",
      "Card(rank='9', suit='clubs')\n",
      "Card(rank='10', suit='clubs')\n",
      "Card(rank='J', suit='clubs')\n",
      "Card(rank='Q', suit='clubs')\n",
      "Card(rank='K', suit='clubs')\n",
      "Card(rank='A', suit='clubs')\n",
      "Card(rank='2', suit='hearts')\n",
      "Card(rank='3', suit='hearts')\n",
      "Card(rank='4', suit='hearts')\n",
      "Card(rank='5', suit='hearts')\n",
      "Card(rank='6', suit='hearts')\n",
      "Card(rank='7', suit='hearts')\n",
      "Card(rank='8', suit='hearts')\n",
      "Card(rank='9', suit='hearts')\n",
      "Card(rank='10', suit='hearts')\n",
      "Card(rank='J', suit='hearts')\n",
      "Card(rank='Q', suit='hearts')\n",
      "Card(rank='K', suit='hearts')\n",
      "Card(rank='A', suit='hearts')\n"
     ]
    }
   ],
   "source": [
    "# 반복\n",
    "for card in deck:\n",
    "    print(card)"
   ]
  },
  {
   "cell_type": "code",
   "execution_count": 68,
   "metadata": {},
   "outputs": [
    {
     "name": "stdout",
     "output_type": "stream",
     "text": [
      "Card(rank='A', suit='hearts')\n",
      "Card(rank='K', suit='hearts')\n",
      "Card(rank='Q', suit='hearts')\n",
      "Card(rank='J', suit='hearts')\n",
      "Card(rank='10', suit='hearts')\n",
      "Card(rank='9', suit='hearts')\n",
      "Card(rank='8', suit='hearts')\n",
      "Card(rank='7', suit='hearts')\n",
      "Card(rank='6', suit='hearts')\n",
      "Card(rank='5', suit='hearts')\n",
      "Card(rank='4', suit='hearts')\n",
      "Card(rank='3', suit='hearts')\n",
      "Card(rank='2', suit='hearts')\n",
      "Card(rank='A', suit='clubs')\n",
      "Card(rank='K', suit='clubs')\n",
      "Card(rank='Q', suit='clubs')\n",
      "Card(rank='J', suit='clubs')\n",
      "Card(rank='10', suit='clubs')\n",
      "Card(rank='9', suit='clubs')\n",
      "Card(rank='8', suit='clubs')\n",
      "Card(rank='7', suit='clubs')\n",
      "Card(rank='6', suit='clubs')\n",
      "Card(rank='5', suit='clubs')\n",
      "Card(rank='4', suit='clubs')\n",
      "Card(rank='3', suit='clubs')\n",
      "Card(rank='2', suit='clubs')\n",
      "Card(rank='A', suit='diamonds')\n",
      "Card(rank='K', suit='diamonds')\n",
      "Card(rank='Q', suit='diamonds')\n",
      "Card(rank='J', suit='diamonds')\n",
      "Card(rank='10', suit='diamonds')\n",
      "Card(rank='9', suit='diamonds')\n",
      "Card(rank='8', suit='diamonds')\n",
      "Card(rank='7', suit='diamonds')\n",
      "Card(rank='6', suit='diamonds')\n",
      "Card(rank='5', suit='diamonds')\n",
      "Card(rank='4', suit='diamonds')\n",
      "Card(rank='3', suit='diamonds')\n",
      "Card(rank='2', suit='diamonds')\n",
      "Card(rank='A', suit='spades')\n",
      "Card(rank='K', suit='spades')\n",
      "Card(rank='Q', suit='spades')\n",
      "Card(rank='J', suit='spades')\n",
      "Card(rank='10', suit='spades')\n",
      "Card(rank='9', suit='spades')\n",
      "Card(rank='8', suit='spades')\n",
      "Card(rank='7', suit='spades')\n",
      "Card(rank='6', suit='spades')\n",
      "Card(rank='5', suit='spades')\n",
      "Card(rank='4', suit='spades')\n",
      "Card(rank='3', suit='spades')\n",
      "Card(rank='2', suit='spades')\n"
     ]
    }
   ],
   "source": [
    "# 뒤에서부터 반복\n",
    "for card in reversed(deck):\n",
    "    print(card)"
   ]
  },
  {
   "cell_type": "code",
   "execution_count": 69,
   "metadata": {},
   "outputs": [
    {
     "data": {
      "text/plain": [
       "True"
      ]
     },
     "execution_count": 69,
     "metadata": {},
     "output_type": "execute_result"
    }
   ],
   "source": [
    "# 컬렉션에 __contains__() 매서드가 없다면 in 연산자는 차례대로 검색\n",
    "Card('Q', 'hearts') in deck"
   ]
  },
  {
   "cell_type": "code",
   "execution_count": 70,
   "metadata": {},
   "outputs": [
    {
     "data": {
      "text/plain": [
       "False"
      ]
     },
     "execution_count": 70,
     "metadata": {},
     "output_type": "execute_result"
    }
   ],
   "source": [
    "Card('7', 'beasts') in deck"
   ]
  },
  {
   "cell_type": "code",
   "execution_count": 71,
   "metadata": {},
   "outputs": [
    {
     "name": "stdout",
     "output_type": "stream",
     "text": [
      "Card(rank='2', suit='clubs')\n",
      "Card(rank='2', suit='diamonds')\n",
      "Card(rank='2', suit='hearts')\n",
      "Card(rank='2', suit='spades')\n",
      "Card(rank='3', suit='clubs')\n",
      "Card(rank='3', suit='diamonds')\n",
      "Card(rank='3', suit='hearts')\n",
      "Card(rank='3', suit='spades')\n",
      "Card(rank='4', suit='clubs')\n",
      "Card(rank='4', suit='diamonds')\n",
      "Card(rank='4', suit='hearts')\n",
      "Card(rank='4', suit='spades')\n",
      "Card(rank='5', suit='clubs')\n",
      "Card(rank='5', suit='diamonds')\n",
      "Card(rank='5', suit='hearts')\n",
      "Card(rank='5', suit='spades')\n",
      "Card(rank='6', suit='clubs')\n",
      "Card(rank='6', suit='diamonds')\n",
      "Card(rank='6', suit='hearts')\n",
      "Card(rank='6', suit='spades')\n",
      "Card(rank='7', suit='clubs')\n",
      "Card(rank='7', suit='diamonds')\n",
      "Card(rank='7', suit='hearts')\n",
      "Card(rank='7', suit='spades')\n",
      "Card(rank='8', suit='clubs')\n",
      "Card(rank='8', suit='diamonds')\n",
      "Card(rank='8', suit='hearts')\n",
      "Card(rank='8', suit='spades')\n",
      "Card(rank='9', suit='clubs')\n",
      "Card(rank='9', suit='diamonds')\n",
      "Card(rank='9', suit='hearts')\n",
      "Card(rank='9', suit='spades')\n",
      "Card(rank='10', suit='clubs')\n",
      "Card(rank='10', suit='diamonds')\n",
      "Card(rank='10', suit='hearts')\n",
      "Card(rank='10', suit='spades')\n",
      "Card(rank='J', suit='clubs')\n",
      "Card(rank='J', suit='diamonds')\n",
      "Card(rank='J', suit='hearts')\n",
      "Card(rank='J', suit='spades')\n",
      "Card(rank='Q', suit='clubs')\n",
      "Card(rank='Q', suit='diamonds')\n",
      "Card(rank='Q', suit='hearts')\n",
      "Card(rank='Q', suit='spades')\n",
      "Card(rank='K', suit='clubs')\n",
      "Card(rank='K', suit='diamonds')\n",
      "Card(rank='K', suit='hearts')\n",
      "Card(rank='K', suit='spades')\n",
      "Card(rank='A', suit='clubs')\n",
      "Card(rank='A', suit='diamonds')\n",
      "Card(rank='A', suit='hearts')\n",
      "Card(rank='A', suit='spades')\n"
     ]
    }
   ],
   "source": [
    "# 정렬\n",
    "\n",
    "suit_values = dict(spades=3, hearts=2, diamonds=1, clubs=0)\n",
    "\n",
    "# 숫자(rank)로 순위를 정하고 (A>K>Q>J>10>9>...>2), 숫자가 같다면 스페이드>하트>다이아몬드>클로버 순\n",
    "def spades_high(card):\n",
    "    rank_value = FrenchDeck.ranks.index(card.rank)\n",
    "    return rank_value * len(suit_values) + suit_values[card.suit]\n",
    "\n",
    "# 오름차순 나열\n",
    "for card in sorted(deck, key=spades_high):\n",
    "    print(card)"
   ]
  },
  {
   "cell_type": "markdown",
   "metadata": {},
   "source": [
    "FrenchDeck이 암묵적으로 object를 상속 받지만(python2에서는 명시적으로 상속을 작성해야 했지만, `Class FrenchDeck(object):`, python3에서는 기본적으로 상속받음, `Class FrenchDeck:`), 상속 대신 데이터 모델과 구성을 이용해서 기능들을 가져온다.\n",
    "\n",
    "즉, FrenchDeck은 표준 파이썬 시퀀스처럼 작동하므로 반복 및 슬라잇ㅇ 등의 핵심 언어 기능 및 random의 choice(), reversed(), sorted() 등의 함수와 같이 표준 라이브러리를 사용 가능\n",
    "이러한 구성 덕분에 `__len__()`과 `__getitem__()` 매서드는 모든 작업을 list 객체인 self._cards에 떠넘길 수 있음\n",
    "\n",
    "Cf. 카드 셔플링을 할 수 있을까?\n",
    "No! 불변 객체이기 떄문 -> 캡슐화를 어기고 _cards 속성을 직접 조작하지 않는 한 카드의 값과 위치를 바꿀 수 없다.\n",
    "--> 11장에서 `__setitem__()`으로 해결"
   ]
  },
  {
   "cell_type": "markdown",
   "metadata": {},
   "source": [
    "1.2 특별 메서드는 어떻게 사용되나?\n",
    "\n",
    "특별 메서드는 우리가 아니라 파이썬 인터트리터가 호출하기 위한 것이다.\n",
    "ex. 소스 코드에서는 `my_object.__len__()`으로 직접 호출하지 않고, `len(my_object)` 형태로 호출 -> 파이썬 인터프리터가 우리가 구현한 `__len__()` 메서드를 호출\n",
    "\n",
    "그러나 내장 자료형(ex. list, str, bytearray)의 경우 파이썬 인터프리터는 순쉬운 방법을 선택 (ex. CPython의 경우 len() 메서드는 메모리에 있는 모든 가변 크기 내장 객체를 나타내는 pyVarObject C 구조체의 ob_size필드의 값을 반환) -> 메서드를 호출하는 방법보다 빠름\n",
    "\n",
    "종종 득별 메서드가 암묵적으로 호출괸다.\n",
    "ex. `for in x:` -> `iter()` 호출 -> 이 함수는 `x.__iter__()` 호출\n",
    "\n",
    "일반적으로 사용자 코드에서 특별 메서드를 직접 호출하는 경우는 거의 없음 -> 관련된 내장 함수를 호출하는 것이 좋음 - 이 내장 함수들이 해당 특별 메서드를 호출\n",
    "하지만 내장 데이터형의 경우 특별 메서드를 호출하지 않고 더 빠른 방법을 사용(cf. 14.12 'iter() 함수 들여다보기')\n",
    "\n",
    "주의) 사용자 정의 속정을 만들때 이중 언더바를 가진 __foo__와 같은 형태의 속성명은 피하자 - 현재 이런 속성명이 사용되고 있지 않더라도 나중에 특별한 의미를 갖도록 정의될 수 있기 때문"
   ]
  },
  {
   "cell_type": "markdown",
   "metadata": {},
   "source": [
    "1.2.1 수치형 흉내내기\n",
    "\n",
    "연산자에 사용자 정의 객체가 응답할 수 있게 해주는 몇몇 특별 메서드들이 있다(자세한 내용은 13장 참조)."
   ]
  },
  {
   "cell_type": "code",
   "execution_count": 72,
   "metadata": {},
   "outputs": [],
   "source": [
    "# 2차원 유클리드 벡터를 나타내는 클래스 구현\n",
    "# cf. 내장된 complex 형을 이용해 2차원 벡터를 표현할 수도 있지만, 우리가 정의한 클래스는 n차원으로 쉽게 확장 가능(14장 참조).\n",
    "\n",
    "import math\n",
    "\n",
    "class Vector:\n",
    "    \n",
    "    def __init__(self, x=0, y=0):\n",
    "        self.x = x\n",
    "        self.y = y\n",
    "        \n",
    "    def __repr__(self):\n",
    "        return 'Vector(%r, %r)' % (self.x, self.y)\n",
    "    # cf. %r > %s : 출력할 속성의 표준 표현을 가져오기 위해 %r을 사용하는 것이 좋음.\n",
    "    # 우리의 생성자는 문자열이 아닌 숫자를 인수로 받으므로 Vector('1', '2')가 아닌 Vector(1, 2)임\n",
    "    \n",
    "    def __abs__(self):\n",
    "        return math.hypot(self.x, self.y)\n",
    "    \n",
    "    def __add__(self, other):\n",
    "        x = self.x + other.x\n",
    "        y = self.y + other.y\n",
    "        return Vector(x, y)\n",
    "    \n",
    "    def __mul__(self, scalar):\n",
    "        return Vector(self.x * scalar, self.y * scalar)\n",
    "    \n",
    "    def __bool__(self):\n",
    "        # 벡터의 크기가 0이면 False, 그렇지 않으면 True\n",
    "        # 가독성은 떨어지지만 이렇게 구현하면 제곱, 제곱근 연산을 수행하지 않는다.\n",
    "        return bool(self.x or self.y)"
   ]
  },
  {
   "cell_type": "code",
   "execution_count": 73,
   "metadata": {},
   "outputs": [
    {
     "data": {
      "text/plain": [
       "Vector(4, 5)"
      ]
     },
     "execution_count": 73,
     "metadata": {},
     "output_type": "execute_result"
    }
   ],
   "source": [
    "v1 = Vector(2, 4)\n",
    "v2 = Vector(2, 1)\n",
    "v1 + v2"
   ]
  },
  {
   "cell_type": "code",
   "execution_count": 74,
   "metadata": {},
   "outputs": [
    {
     "data": {
      "text/plain": [
       "5.0"
      ]
     },
     "execution_count": 74,
     "metadata": {},
     "output_type": "execute_result"
    }
   ],
   "source": [
    "v = Vector(3, 4)\n",
    "abs(v)"
   ]
  },
  {
   "cell_type": "code",
   "execution_count": 75,
   "metadata": {},
   "outputs": [
    {
     "data": {
      "text/plain": [
       "Vector(9, 12)"
      ]
     },
     "execution_count": 75,
     "metadata": {},
     "output_type": "execute_result"
    }
   ],
   "source": [
    "v * 3"
   ]
  },
  {
   "cell_type": "code",
   "execution_count": 76,
   "metadata": {},
   "outputs": [
    {
     "data": {
      "text/plain": [
       "15.0"
      ]
     },
     "execution_count": 76,
     "metadata": {},
     "output_type": "execute_result"
    }
   ],
   "source": [
    "abs(v * 3)"
   ]
  },
  {
   "cell_type": "markdown",
   "metadata": {},
   "source": [
    "1.2.2 문자열 표현\n",
    "\n",
    "`__repr__()` 특별 메서드는 객체를 문자열로 표현하기 위해 `repr()` 내장 메서드에 의해 호출된다.\n",
    "만약 `__repr__()`가 구현되어 있지 않다면 `<[class 이름] object at [메모리 주소]>`와 같은 형태로 출력된다.\n",
    "\n",
    "문자열 포맷팅에서 %r / !r 에서도 표현식의 결과에 `repr()`을 호출\n",
    "\n",
    "`__repr__()` 메서드가 반환한 문자열은 명확해야 하며, 가능하면 표현된 객체를 재생성하는 데 필요한 소스코드와 일치해야 한다. (ex. `Vector(1, 2)` > `Vector('1', '2')` or `vec(1, 2)`)\n",
    "\n",
    "`__repr__()` vs `__str__()`\n",
    "`__str__()`는 생성자에 의해 호출되며 `print()` 함수에 의해 암묵적으로 사용된다. 사용자에게 보여주기 적당한 형태의 문자열을 반환해야 한다.\n",
    "두 특별 메서드 중 하나만 구현해야 한다면 -> `__repr__()`을 구현 : 파이썬 인터프리터는 `__str__()` 메서드가 구현되어 있지 않을 때 대책으로 `__repr__()` 메서드를 호출하기 때문"
   ]
  },
  {
   "cell_type": "markdown",
   "metadata": {},
   "source": [
    "1.2.3 산술 연산자\n",
    "\n",
    "`__add__()` -> `+` / `__mul__()` -> `*` / ...\n",
    "\n",
    "중위 연산자는 의례적으로 피연산자를 변경하지 않고 객체를 새로 만든다.\n",
    "\n",
    "주의! 이 예제에서 구현한 코드는 Vector에 숫자를 곱할 수 있지만 그 반대는 x (교환법칙 x) -> `__rmul__()` 특별 메서드를 이용해 수정 (13장 참조)"
   ]
  },
  {
   "cell_type": "markdown",
   "metadata": {},
   "source": [
    "1.2.4 사용자 정의형의 boolean 값\n",
    "\n",
    "파이썬에도 bool 형은 있지만, if나 while 문, 혹은 and, or, not에 대한 피연산자로서 boolean형이 필요한 곳에는 어떠한 객체라도 사용할 수 있다.\n",
    "x가 참인지 거짓인지 판단하기 위해 파이썬은 `bool(x)`을 적용하며, 이 함수는 항상 True나 False를 반환한다.\n",
    "`bool(x)`는 `x.__bool__()`을 호출한다.\n",
    "\n",
    "`__bool__()`이나 `__len__()`을 구현하지 않은 경우, 기본적으로 사용자 정의 클래스 객체는 `true`로 간주된다.\n",
    "\n",
    "`__bool__()`이 구현되어 있지 않으면 파이썬은 `x.__len__()`을 호출하며, 이 특별 메서드가 `0`을 반환하면 `False`를 그렇지 않으면 `True`를 반환한다.\n",
    "\n",
    "주의! 우리가 정의한 객체를 `__bool__()` 특별 메서드가 어떻게 파이썬 표준 라이브러리 문서의 내장 자료형(https://docs.python.org/ko/3/library/stdtypes.html#truth)에 정의된 참값 검사 규칙을 적용하는지 살펴보자."
   ]
  },
  {
   "cell_type": "markdown",
   "metadata": {},
   "source": [
    "1.3 특별 메서드 개요\n",
    "\n",
    "파이썬 언어 참조 문서의 '데이터 모델'장(https://docs.python.org/ko/3/reference/datamodel.html) 참조"
   ]
  },
  {
   "cell_type": "markdown",
   "metadata": {},
   "source": [
    "1.4 왜 len()은 메서드가 아닐까?\n",
    "\n",
    "실용성 > 순수성\n",
    "\n",
    "len(x)는 x가 내장형의 객체일 때 아주 빨리 실행된다.\n",
    "컬렉션에 들어 있는 항목 수를 가져오는 연산은 자주 발생하므로 str, list, memoryview 등의 다양한 기본형 객체에 대해 효율적으로 작동해야 한다.\n",
    "\n",
    "즉, len()은 abs()와 마찬가지로 파이썬 데이터 모델에서 특별한 대우를 받으므로 메서드라고 부르지 않는다.\n",
    "그러나 __len__() 특별 메서드 덕분에 우리는 정의한 객체에서 len() 메서드를 직접 정의할 수 있다.\n",
    "이것은 내장형 객체의 효율성과 언어의 일관성 간의 타협점을 어느 정도 찾은 것이다."
   ]
  },
  {
   "cell_type": "markdown",
   "metadata": {},
   "source": [
    "1.5 요약\n",
    "특별 메서드를 구현하면 사용자 정의 객체도 내장형 객체처럼 작동하게 되어, 파이썬스러운 표현력 있는 코딩 스타일을 구사할 수 있다.\n",
    "\n",
    "파이썬 객체는 기본적으로 자신을 문자열 형태로 제공해야 하는데, 디버깅 및 로그에 사용하는 형태(`__repr__()`)와 사용자에게 보여주기 위한 형태(`__str__()`)가 있다.\n",
    "\n",
    "시퀀스를 흉내 내기 위해 특별 메서드가 널리 사용된다. -> 2장\n",
    "자신만의 시퀀스 캑체를 구현하는 방법 -> 10장\n",
    "\n",
    "연산자 오버로딩 덕분에 파이썬은 내장형에서 decimal.Decimal과 fractions.Fraction에 이르기까지 중위 산술 연산을 지원하는 다양한 수치형을 제공한다.\n",
    "다양한 연산자 구현 방법 -> 13장\n",
    "\n",
    "나머지 특별 메서드의 사용과 구현은 이 책의 모든 부분에서 설명한다."
   ]
  },
  {
   "cell_type": "markdown",
   "metadata": {},
   "source": [
    "1.6 읽을거리\n",
    "\n",
    "데이터 모델 ~= 객체 모델 = 메타객체 프로토콜\n",
    "객체 모델: 특정 컴퓨터 프로그래밍 언어에서 일반적인 객체의 속성(핵심 언어 구조체에 대한 API)"
   ]
  }
 ],
 "metadata": {
  "kernelspec": {
   "display_name": "Python 3.7.13 ('study-python')",
   "language": "python",
   "name": "python3"
  },
  "language_info": {
   "codemirror_mode": {
    "name": "ipython",
    "version": 3
   },
   "file_extension": ".py",
   "mimetype": "text/x-python",
   "name": "python",
   "nbconvert_exporter": "python",
   "pygments_lexer": "ipython3",
   "version": "3.7.13"
  },
  "orig_nbformat": 4,
  "vscode": {
   "interpreter": {
    "hash": "a87082ad430018747f92c6a57bad80cb5cee1dc3d68de6108f5a3b5fce7e0327"
   }
  }
 },
 "nbformat": 4,
 "nbformat_minor": 2
}
